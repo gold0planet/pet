{
 "cells": [
  {
   "cell_type": "code",
   "execution_count": 1,
   "id": "a3c5ee4f",
   "metadata": {},
   "outputs": [],
   "source": [
    "import torch"
   ]
  },
  {
   "cell_type": "code",
   "execution_count": 2,
   "id": "74ed7e36",
   "metadata": {},
   "outputs": [
    {
     "name": "stdout",
     "output_type": "stream",
     "text": [
      "M: tensor([[1., 2., 3.]])\n",
      "N: tensor([[1.],\n",
      "        [2.]])\n"
     ]
    }
   ],
   "source": [
    "# 初始化1*3和2*1矩阵\n",
    "M = torch.rand(1, 3) # rand  0-1伪随机数\n",
    "N = torch.randn(2, 1) # randn 标准正态分布\n",
    "M, N\n",
    "M = torch.tensor([[1, 2, 3]], dtype=torch.float32) # tensor()创建张量\n",
    "N = torch.tensor([[1], [2]], dtype=torch.float32)\n",
    "print(f\"M: {M}\")\n",
    "print(f\"N: {N}\")"
   ]
  },
  {
   "cell_type": "code",
   "execution_count": 3,
   "id": "3d7060eb",
   "metadata": {},
   "outputs": [
    {
     "data": {
      "text/plain": [
       "tensor([[ 0.,  1.,  2.],\n",
       "        [-1.,  0.,  1.]])"
      ]
     },
     "execution_count": 3,
     "metadata": {},
     "output_type": "execute_result"
    }
   ],
   "source": [
    "# 方式一：直接相加，自动进行广播\n",
    "M - N # 1*3 + 2*1 -> 2*3(复制列) + 2*3(复制行)"
   ]
  },
  {
   "cell_type": "code",
   "execution_count": 4,
   "id": "7433aabe",
   "metadata": {},
   "outputs": [
    {
     "data": {
      "text/plain": [
       "tensor([[ 0.,  1.,  2.],\n",
       "        [-1.,  0.,  1.]])"
      ]
     },
     "execution_count": 4,
     "metadata": {},
     "output_type": "execute_result"
    }
   ],
   "source": [
    "# 方式二：torch.sub(input, other, *, alpha=1, out=None)\n",
    "torch.sub(M, N)"
   ]
  },
  {
   "cell_type": "code",
   "execution_count": 5,
   "id": "9aae8d05",
   "metadata": {},
   "outputs": [
    {
     "data": {
      "text/plain": [
       "tensor([[ 0.,  1.,  2.],\n",
       "        [-1.,  0.,  1.]])"
      ]
     },
     "execution_count": 5,
     "metadata": {},
     "output_type": "execute_result"
    }
   ],
   "source": [
    "M.sub(N)"
   ]
  },
  {
   "cell_type": "code",
   "execution_count": 6,
   "id": "034945a4",
   "metadata": {},
   "outputs": [],
   "source": [
    "##### 实验1.2  "
   ]
  },
  {
   "cell_type": "code",
   "execution_count": 7,
   "id": "fd743f01",
   "metadata": {},
   "outputs": [
    {
     "name": "stdout",
     "output_type": "stream",
     "text": [
      "P: tensor([[ 0.0042, -0.0105],\n",
      "        [ 0.0030,  0.0063],\n",
      "        [-0.0081, -0.0015]])\n",
      "Q: tensor([[-0.0011,  0.0161],\n",
      "        [-0.0161, -0.0027],\n",
      "        [ 0.0044,  0.0082],\n",
      "        [ 0.0092, -0.0101]])\n"
     ]
    }
   ],
   "source": [
    "P = torch.randn(3, 2) * 0.01\n",
    "Q = torch.randn(4, 2) * 0.01\n",
    "print(f\"P: {P}\")\n",
    "print(f\"Q: {Q}\")"
   ]
  },
  {
   "cell_type": "code",
   "execution_count": 8,
   "id": "87ff7cc5",
   "metadata": {},
   "outputs": [
    {
     "name": "stdout",
     "output_type": "stream",
     "text": [
      "Q_t： tensor([[-0.0011, -0.0161,  0.0044,  0.0092],\n",
      "        [ 0.0161, -0.0027,  0.0082, -0.0101]])\n"
     ]
    }
   ],
   "source": [
    "# 计算Q的转置\n",
    "# Q_t = Q.T\n",
    "# Q_t = Q.t()\n",
    "Q_t = Q.transpose(0, 1)\n",
    "print(f\"Q_t： {Q_t}\")"
   ]
  },
  {
   "cell_type": "code",
   "execution_count": 9,
   "id": "0804f127",
   "metadata": {},
   "outputs": [
    {
     "name": "stdout",
     "output_type": "stream",
     "text": [
      "P @ Q_t: tensor([[-1.7397e-04, -3.8876e-05, -6.7811e-05,  1.4449e-04],\n",
      "        [ 9.8341e-05, -6.4987e-05,  6.5175e-05, -3.6247e-05],\n",
      "        [-1.4356e-05,  1.3430e-04, -4.8043e-05, -5.9915e-05]])\n"
     ]
    }
   ],
   "source": [
    "P.matmul(Q_t)\n",
    "print(f\"P @ Q_t: {P @ Q_t}\")"
   ]
  },
  {
   "cell_type": "code",
   "execution_count": 10,
   "id": "cbfc0797",
   "metadata": {},
   "outputs": [],
   "source": [
    "#### 实验1.3"
   ]
  },
  {
   "cell_type": "code",
   "execution_count": 11,
   "id": "3606e2f5",
   "metadata": {},
   "outputs": [
    {
     "name": "stdout",
     "output_type": "stream",
     "text": [
      "No gradient calculation needed for y2\n",
      "x: 1.0\n",
      "y1: 1.0, y2: 1.0\n",
      "y3: 2.0\n"
     ]
    }
   ],
   "source": [
    "# x = torch.tensor(1, requires_grad=True)\n",
    "x = torch.tensor(1.0, requires_grad=True, dtype=torch.float32)\n",
    "y1 = x ** 2\n",
    "with torch.no_grad():\n",
    "    # 在不需要梯度计算的上下文中执行\n",
    "    y2 = x ** 3\n",
    "    print(\"No gradient calculation needed for y2\")\n",
    "y3 = y1 + y2\n",
    "print(f\"x: {x}\\ny1: {y1}, y2: {y2}\\ny3: {y3}\")"
   ]
  },
  {
   "cell_type": "code",
   "execution_count": 12,
   "id": "385c425c",
   "metadata": {},
   "outputs": [
    {
     "name": "stdout",
     "output_type": "stream",
     "text": [
      "x.grad: 2.0\n"
     ]
    }
   ],
   "source": [
    "# 梯度计算\n",
    "y3.backward()  # 计算梯度\n",
    "print(f\"x.grad: {x.grad}\")  # 输出梯度"
   ]
  }
 ],
 "metadata": {
  "kernelspec": {
   "display_name": "ai",
   "language": "python",
   "name": "python3"
  },
  "language_info": {
   "codemirror_mode": {
    "name": "ipython",
    "version": 3
   },
   "file_extension": ".py",
   "mimetype": "text/x-python",
   "name": "python",
   "nbconvert_exporter": "python",
   "pygments_lexer": "ipython3",
   "version": "3.9.23"
  }
 },
 "nbformat": 4,
 "nbformat_minor": 5
}
